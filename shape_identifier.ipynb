{
  "nbformat": 4,
  "nbformat_minor": 0,
  "metadata": {
    "colab": {
      "name": "shape_identifier.ipynb",
      "provenance": [],
      "include_colab_link": true
    },
    "kernelspec": {
      "display_name": "Python 3",
      "name": "python3"
    },
    "language_info": {
      "name": "python"
    }
  },
  "cells": [
    {
      "cell_type": "markdown",
      "metadata": {
        "id": "view-in-github",
        "colab_type": "text"
      },
      "source": [
        "<a href=\"https://colab.research.google.com/github/nonwiz0/shapeidentifier/blob/main/shape_identifier.ipynb\" target=\"_parent\"><img src=\"https://colab.research.google.com/assets/colab-badge.svg\" alt=\"Open In Colab\"/></a>"
      ]
    },
    {
      "cell_type": "markdown",
      "metadata": {
        "id": "9H04VXQPj4Bd"
      },
      "source": [
        "# Shape Identifier\n",
        "Develop a neural network to recognize basic geometry shapes like triangles, rectangles, pentagons, hexagons base on user input.\n",
        "\n",
        "## Testing library"
      ]
    },
    {
      "cell_type": "code",
      "metadata": {
        "id": "bD9YYYV_4STR"
      },
      "source": [
        "import tensorflow as tf\n",
        "from tensorflow import keras\n",
        "import matplotlib.pyplot as plt\n",
        "%matplotlib inline\n",
        "import numpy as np\n",
        "import tensorflow_datasets as tfds\n",
        "import os\n",
        "import cv2\n",
        "\n",
        "IMG_SIZE = 200\n",
        "DATADIR = \"/content/drive/MyDrive/AI_Dataset/Training_Dataset\"\n",
        "TRAINING_DATADIR = \"/content/drive/MyDrive/AI_Dataset/Training_Dataset\"\n",
        "TESTING_DATADIR = \"/content/drive/MyDrive/AI_Dataset/Testing_Dataset\"\n",
        "\n",
        "CATEGORIES = [\"Circle\", \"Heptagon\", \"Hexagon\", \"Nonagon\", \"Octagon\", \"Pentagon\", \"Square\", \"Star\", \"Triangle\"]\n",
        "for category in CATEGORIES:\n",
        "  path = os.path.join(TESTING_DATADIR, category)\n",
        "  for img in os.listdir(path):\n",
        "    img_array = cv2.imread(os.path.join(path, img), cv2.IMREAD_GRAYSCALE)\n",
        "    plt.imshow(img_array, cmap=\"gray\")\n",
        "    plt.show()\n",
        "    break\n",
        "  break\n"
      ],
      "execution_count": null,
      "outputs": []
    },
    {
      "cell_type": "code",
      "metadata": {
        "colab": {
          "base_uri": "https://localhost:8080/"
        },
        "id": "nvCxD2xn-aiX",
        "outputId": "3957cdab-f533-4bfd-f74d-f2a6adbd71fd"
      },
      "source": [
        "from google.colab import drive\n",
        "drive.mount('/content/drive')"
      ],
      "execution_count": null,
      "outputs": [
        {
          "output_type": "stream",
          "name": "stdout",
          "text": [
            "Mounted at /content/drive\n"
          ]
        }
      ]
    },
    {
      "cell_type": "code",
      "metadata": {
        "colab": {
          "base_uri": "https://localhost:8080/",
          "height": 286
        },
        "id": "eMJ8-ZsZQ_Ez",
        "outputId": "13e508ab-843c-42da-93ec-1215c44b163b"
      },
      "source": [
        "new_array = cv2.resize(img_array, (IMG_SIZE, IMG_SIZE))\n",
        "print(new_array.shape)\n",
        "plt.imshow(new_array, cmap='gray')\n",
        "plt.show()"
      ],
      "execution_count": null,
      "outputs": [
        {
          "output_type": "stream",
          "name": "stdout",
          "text": [
            "(200, 200)\n"
          ]
        },
        {
          "output_type": "display_data",
          "data": {
            "image/png": "[encoded data removed]",
            "text/plain": [
              "<Figure size 432x288 with 1 Axes>"
            ]
          },
          "metadata": {
            "needs_background": "light"
          }
        }
      ]
    },
    {
      "cell_type": "code",
      "metadata": {
        "id": "kc4zG_QBLtX8"
      },
      "source": [
        "# training_data, testing_data = [], []\n",
        "training_data = np.load('/content/drive/MyDrive/AI_Dataset/training_data.npy')\n",
        "testing_data = np.load(\"/content/drive/MyDrive/AI_Dataset/testing_data.npy\")\n",
        "\n",
        "def create_training_data():\n",
        "  loop = 0\n",
        "  img_size = 200\n",
        "  for category in CATEGORIES:\n",
        "    path = os.path.join(TRAINING_DATADIR, category)\n",
        "    class_num = CATEGORIES.index(category)\n",
        "    for img in os.listdir(path):\n",
        "      img_array = cv2.imread(os.path.join(path, img), cv2.IMREAD_GRAYSCALE)\n",
        "      new_array = cv2.resize(img_array, (img_size, img_size))\n",
        "      training_data.append([new_array, class_num])\n",
        "      print(f\"Added {loop} by Training_data\")\n",
        "      loop += 1\n",
        "    path = os.path.join(TESTING_DATADIR, category)\n",
        "    for img in os.listdir(path):\n",
        "      img_array = cv2.imread(os.path.join(path, img), cv2.IMREAD_GRAYSCALE)\n",
        "      new_array = cv2.resize(img_array, (img_size, img_size))\n",
        "      testing_data.append([new_array, class_num])\n",
        "      print(f\"Added {loop} by Testing_data\")\n",
        "\n",
        "# create_training_data()\n",
        "\n"
      ],
      "execution_count": null,
      "outputs": []
    },
    {
      "cell_type": "code",
      "metadata": {
        "colab": {
          "base_uri": "https://localhost:8080/"
        },
        "id": "dUheTGVQPSxL",
        "outputId": "25835b7a-6651-48a2-8fdd-a1df8db8b930"
      },
      "source": [
        "import random\n",
        "random.shuffle(training_data)\n",
        "random.shuffle(testing_data)\n",
        "print(\"Everyday im shuffling...\")"
      ],
      "execution_count": null,
      "outputs": [
        {
          "output_type": "stream",
          "name": "stdout",
          "text": [
            "Everyday im shuffling...\n"
          ]
        }
      ]
    },
    {
      "cell_type": "code",
      "metadata": {
        "id": "M42Y8gdjWk8Y"
      },
      "source": [
        "X_TRAIN, X_TEST = [], []\n",
        "y_train, y_test = [], []\n",
        "\n",
        "for features, label in training_data:\n",
        "    X_TRAIN.append(features)\n",
        "    y_train.append(label)\n",
        "  \n",
        "\n",
        "for features, label in testing_data:\n",
        "  X_TEST.append(features)\n",
        "  y_test.append(label)\n",
        "\n",
        "X_TRAIN = np.array(X_TRAIN).reshape(-1, IMG_SIZE, IMG_SIZE, 1)\n",
        "X_TEST = np.array(X_TEST).reshape(-1, IMG_SIZE, IMG_SIZE, 1)"
      ],
      "execution_count": null,
      "outputs": []
    },
    {
      "cell_type": "code",
      "metadata": {
        "id": "9NGpYm07mRvt"
      },
      "source": [
        "def showFigure(arr, label):\n",
        "  print(\"label:\", label, \"category\", CATEGORIES[label])\n",
        "  plt.figure()\n",
        "  img =cv2.resize(arr, (IMG_SIZE, IMG_SIZE) )\n",
        "  plt.imshow(img, cmap='gray')\n",
        "  plt.show()\n",
        "\n"
      ],
      "execution_count": null,
      "outputs": []
    },
    {
      "cell_type": "code",
      "metadata": {
        "id": "R3XHeA3VXk67",
        "colab": {
          "base_uri": "https://localhost:8080/",
          "height": 286
        },
        "outputId": "f50ed3dc-1be1-48ba-be9d-4183551ae2ba"
      },
      "source": [
        "print(\"Hello\", y_train[400], CATEGORIES[y_train[400]])\n",
        "# new_array = cv2.resize(img_array, (IMG_SIZE, IMG_SIZE))\n",
        "img =cv2.resize(X_TRAIN[30], (IMG_SIZE, IMG_SIZE) )\n",
        "plt.imshow(img, cmap='gray')\n",
        "plt.show()"
      ],
      "execution_count": null,
      "outputs": [
        {
          "output_type": "stream",
          "name": "stdout",
          "text": [
            "Hello 2 Hexagon\n"
          ]
        },
        {
          "output_type": "display_data",
          "data": {
            "image/png": "[encoded data removed]",
            "text/plain": [
              "<Figure size 432x288 with 1 Axes>"
            ]
          },
          "metadata": {
            "needs_background": "light"
          }
        }
      ]
    },
    {
      "cell_type": "code",
      "metadata": {
        "id": "cOFqyw98Ydsl",
        "colab": {
          "base_uri": "https://localhost:8080/",
          "height": 286
        },
        "outputId": "cd59e72c-bff0-4b0f-fe1a-f7fab4c1ca80"
      },
      "source": [
        "index = 100\n",
        "showFigure(X_TRAIN[index], y_train[index])\n"
      ],
      "execution_count": null,
      "outputs": [
        {
          "output_type": "stream",
          "name": "stdout",
          "text": [
            "label: 2 category Hexagon\n"
          ]
        },
        {
          "output_type": "display_data",
          "data": {
            "image/png": "[encoded data removed]",
            "text/plain": [
              "<Figure size 432x288 with 1 Axes>"
            ]
          },
          "metadata": {
            "needs_background": "light"
          }
        }
      ]
    },
    {
      "cell_type": "code",
      "metadata": {
        "id": "fFWh2XFLgkMg",
        "colab": {
          "base_uri": "https://localhost:8080/"
        },
        "outputId": "7ab1899a-9db9-4fa0-b372-5141d71d4f73"
      },
      "source": [
        "# Saving all the major data set\n",
        "# np.save(\"x_train.npy\", X_TRAIN)\n",
        "# np.save(\"y_train.npy\", y_train)\n",
        "# np.save(\"x_test.npy\", X_TEST)\n",
        "# np.save(\"y_test.npy\", y_test)\n",
        "# np.save(\"training_data.npy\", training_data)\n",
        "# np.save(\"testing_data.npy\", testing_data)"
      ],
      "execution_count": null,
      "outputs": [
        {
          "output_type": "stream",
          "name": "stderr",
          "text": [
            "/usr/local/lib/python3.7/dist-packages/numpy/core/_asarray.py:136: VisibleDeprecationWarning: Creating an ndarray from ragged nested sequences (which is a list-or-tuple of lists-or-tuples-or ndarrays with different lengths or shapes) is deprecated. If you meant to do this, you must specify 'dtype=object' when creating the ndarray\n",
            "  return array(a, dtype, copy=False, order=order, subok=True)\n"
          ]
        }
      ]
    },
    {
      "cell_type": "code",
      "metadata": {
        "id": "Yl3jNbSzoYTx"
      },
      "source": [
        "# Data Preprocessing\n",
        "X_TRAIN = X_TRAIN / 255\n",
        "X_TEST = X_TEST / 255"
      ],
      "execution_count": null,
      "outputs": []
    },
    {
      "cell_type": "code",
      "metadata": {
        "id": "iKKtnxvnvyvf"
      },
      "source": [
        "\n",
        "model = keras.Sequential([\n",
        "    keras.layers.Flatten(input_shape=(IMG_SIZE, IMG_SIZE)),\n",
        "    keras.layers.Dense(81, activation='relu'),\n",
        "    keras.layers.Dense(len(CATEGORIES), activation='softmax')\n",
        "])\n",
        "\n",
        "model.compile(optimizer='adam',\n",
        "              loss='sparse_categorical_crossentropy',\n",
        "              metrics=['accuracy'])"
      ],
      "execution_count": null,
      "outputs": []
    },
    {
      "cell_type": "code",
      "metadata": {
        "id": "nlC_ZmyotMsV",
        "colab": {
          "base_uri": "https://localhost:8080/"
        },
        "outputId": "c7446d20-9c91-47cb-e49a-727708ea2826"
      },
      "source": [
        "y_train = np.array(y_train)\n",
        "y_test = np.array(y_test)\n",
        "model.fit(X_TRAIN, y_train, epochs=5)"
      ],
      "execution_count": null,
      "outputs": [
        {
          "output_type": "stream",
          "name": "stdout",
          "text": [
            "Epoch 1/5\n",
            "141/141 [==============================] - 5s 29ms/step - loss: 3.5933 - accuracy: 0.1069\n",
            "Epoch 2/5\n",
            "141/141 [==============================] - 6s 46ms/step - loss: 2.1973 - accuracy: 0.1138\n",
            "Epoch 3/5\n",
            "141/141 [==============================] - 8s 57ms/step - loss: 2.1971 - accuracy: 0.1153\n",
            "Epoch 4/5\n",
            "141/141 [==============================] - 9s 66ms/step - loss: 2.1971 - accuracy: 0.1153\n",
            "Epoch 5/5\n",
            "141/141 [==============================] - 5s 36ms/step - loss: 2.1970 - accuracy: 0.1111\n"
          ]
        },
        {
          "output_type": "execute_result",
          "data": {
            "text/plain": [
              "<keras.callbacks.History at 0x7fba91d6b690>"
            ]
          },
          "metadata": {},
          "execution_count": 251
        }
      ]
    },
    {
      "cell_type": "code",
      "metadata": {
        "colab": {
          "base_uri": "https://localhost:8080/"
        },
        "id": "Lg6OVYvceO-6",
        "outputId": "b79c5e56-0239-4fb4-adc8-1ef69dcdd1ba"
      },
      "source": [
        "model.evaluate(X_TEST, y_test)\n",
        "y_predicted = model.predict(X_TEST)\n",
        "y_predicted[1]\n",
        "\n",
        "\n",
        "\n",
        "\n"
      ],
      "execution_count": null,
      "outputs": [
        {
          "metadata": {
            "tags": null
          },
          "name": "stdout",
          "output_type": "stream",
          "text": [
            "29/29 [==============================] - 49s 2s/step - loss: 2.5368 - accuracy: 0.1933\n"
          ]
        },
        {
          "output_type": "execute_result",
          "data": {
            "text/plain": [
              "array([0.15711522, 0.07098015, 0.09610913, 0.09351648, 0.10853575,\n",
              "       0.14843705, 0.10718543, 0.05834623, 0.15977448], dtype=float32)"
            ]
          },
          "metadata": {},
          "execution_count": 218
        }
      ]
    },
    {
      "cell_type": "markdown",
      "metadata": {
        "id": "3kv28pxlOFs7"
      },
      "source": [
        "# Reference\n",
        "- [Loading your own custom dataset](https://www.youtube.com/watch?v=j-3vuBynnOE)\n",
        "- [Saving and Load](https://colab.research.google.com/github/geekmj/python-tutorials/blob/master/numpy-basics/save-array-to-file.ipynb#scrollTo=rw-4iKeOgkMm)\n"
      ]
    }
  ]
}