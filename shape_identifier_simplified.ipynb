{
  "nbformat": 4,
  "nbformat_minor": 0,
  "metadata": {
    "colab": {
      "name": "shape_identifier_simplified.ipynb",
      "provenance": [],
      "collapsed_sections": [],
      "mount_file_id": "1J6WJn4_Mjdj1kaacC1zujeOYUhbyieOh",
      "authorship_tag": "ABX9TyOVhblCMS8uhUpU+xidc4dY",
      "include_colab_link": true
    },
    "kernelspec": {
      "display_name": "Python 3",
      "name": "python3"
    },
    "language_info": {
      "name": "python"
    }
  },
  "cells": [
    {
      "cell_type": "markdown",
      "metadata": {
        "id": "view-in-github",
        "colab_type": "text"
      },
      "source": [
        "<a href=\"https://colab.research.google.com/github/nonwiz0/shapeidentifier/blob/main/shape_identifier_simplified.ipynb\" target=\"_parent\"><img src=\"https://colab.research.google.com/assets/colab-badge.svg\" alt=\"Open In Colab\"/></a>"
      ]
    },
    {
      "cell_type": "markdown",
      "metadata": {
        "id": "9H04VXQPj4Bd"
      },
      "source": [
        "# Shape Identifier\n",
        "Develop a neural network to recognize basic geometry shapes like triangles, rectangles, pentagons, hexagons base on user input.\n",
        "\n",
        "## What we did:\n",
        "1. We generate image using 2DGeometryShapesGenerator (We customized it a little bit to generate in a certain color we want)\n",
        "2. We custom convert it to Dataset, but first we upload to Google Drive\n",
        "3. We convert the dataset into Numpyarray for future uses, so we don't have to rely on the image on Google Drive anymore\n",
        "4. We flatten the array shifting its core from RGB reliance to Grayscale\n",
        "5. To "
      ]
    },
    {
      "cell_type": "code",
      "metadata": {
        "id": "nJVK5FqoqHax"
      },
      "source": [
        "import tensorflow as tf\n",
        "from tensorflow import keras\n",
        "import matplotlib.pyplot as plt\n",
        "%matplotlib inline\n",
        "import numpy as np\n",
        "import tensorflow_datasets as tfds\n",
        "import os\n",
        "import cv2\n",
        "import random\n",
        "\n",
        "\n",
        "IMG_SIZE = 200\n",
        "CATEGORIES = [\"Circle\", \"Heptagon\", \"Hexagon\", \"Nonagon\", \"Octagon\", \"Pentagon\", \"Square\", \"Star\", \"Triangle\"]\n",
        "\n",
        "def showFigure(arr, index, label):\n",
        "  print(\"Actual Shape: Category\", label[index], CATEGORIES[label[index]])\n",
        "  plt.figure()\n",
        "  img = cv2.resize(arr[index], (IMG_SIZE, IMG_SIZE) )\n",
        "  plt.imshow(img, cmap='gray')\n",
        "  plt.show()"
      ],
      "execution_count": 3,
      "outputs": []
    },
    {
      "cell_type": "code",
      "metadata": {
        "colab": {
          "base_uri": "https://localhost:8080/"
        },
        "id": "0E4LMQ80tsiA",
        "outputId": "73804408-9268-422b-bd32-5e8977d43f85"
      },
      "source": [
        "\n",
        "from google.colab import drive\n",
        "drive.mount('/content/drive')"
      ],
      "execution_count": 4,
      "outputs": [
        {
          "output_type": "stream",
          "name": "stdout",
          "text": [
            "Drive already mounted at /content/drive; to attempt to forcibly remount, call drive.mount(\"/content/drive\", force_remount=True).\n"
          ]
        }
      ]
    },
    {
      "cell_type": "code",
      "metadata": {
        "colab": {
          "base_uri": "https://localhost:8080/"
        },
        "id": "9vaukO6PrClW",
        "outputId": "f5b088d0-58aa-4aaa-fc09-a4ff5a3f0a17"
      },
      "source": [
        "\n",
        "import numpy as np\n",
        "np_load_old = np.load\n",
        "np.load = lambda *a,**k: np_load_old(*a, allow_pickle=True, **k)\n",
        "training_data = np.load('/content/drive/MyDrive/AI_Dataset/training_data.npy')\n",
        "testing_data = np.load(\"/content/drive/MyDrive/AI_Dataset/testing_data.npy\")\n",
        "np.load = np_load_old\n",
        "\n",
        "\n",
        "random.shuffle(training_data)\n",
        "random.shuffle(testing_data)\n",
        "print(\"Everyday im shuffling...\")"
      ],
      "execution_count": 5,
      "outputs": [
        {
          "output_type": "stream",
          "name": "stdout",
          "text": [
            "Everyday im shuffling...\n"
          ]
        }
      ]
    },
    {
      "cell_type": "code",
      "metadata": {
        "id": "gVUWHmypfJob",
        "colab": {
          "base_uri": "https://localhost:8080/"
        },
        "outputId": "6d992d99-719c-469b-c6a4-87a72bb55ba7"
      },
      "source": [
        "training_data[0][1]"
      ],
      "execution_count": 4,
      "outputs": [
        {
          "output_type": "execute_result",
          "data": {
            "text/plain": [
              "2"
            ]
          },
          "metadata": {},
          "execution_count": 4
        }
      ]
    },
    {
      "cell_type": "code",
      "metadata": {
        "id": "M42Y8gdjWk8Y"
      },
      "source": [
        "X_TRAIN = []\n",
        "X_TEST = []\n",
        "y_train = []\n",
        "y_test = []\n",
        "\n",
        "for features, label in training_data:\n",
        "  X_TRAIN.append(features)\n",
        "  y_train.append(label)\n",
        "  \n",
        "for features, label in testing_data:\n",
        "  X_TEST.append(features)\n",
        "  y_test.append(label)\n",
        "\n",
        "X_TRAIN = np.array(X_TRAIN).reshape(-1, IMG_SIZE, IMG_SIZE)\n",
        "X_TEST = np.array(X_TEST).reshape(-1, IMG_SIZE, IMG_SIZE)\n",
        "\n",
        "# Data Preprocessing\n",
        "X_TRAIN = X_TRAIN / 255\n",
        "X_TEST = X_TEST / 255\n",
        "X_TRAIN = np.floor(X_TRAIN)\n",
        "X_TEST = np.floor(X_TEST)\n",
        "\n",
        "y_train = np.array(y_train)\n",
        "y_test = np.array(y_test)"
      ],
      "execution_count": 6,
      "outputs": []
    },
    {
      "cell_type": "code",
      "metadata": {
        "id": "rnvkyBuF8Ptk",
        "colab": {
          "base_uri": "https://localhost:8080/"
        },
        "outputId": "78c2e988-1b30-4fe5-82c4-aa7227fc5740"
      },
      "source": [
        "X_TRAIN[0]"
      ],
      "execution_count": 8,
      "outputs": [
        {
          "output_type": "execute_result",
          "data": {
            "text/plain": [
              "array([[0., 0., 0., ..., 0., 0., 0.],\n",
              "       [0., 0., 0., ..., 0., 0., 0.],\n",
              "       [0., 0., 0., ..., 0., 0., 0.],\n",
              "       ...,\n",
              "       [0., 0., 0., ..., 0., 0., 0.],\n",
              "       [0., 0., 0., ..., 0., 0., 0.],\n",
              "       [0., 0., 0., ..., 0., 0., 0.]])"
            ]
          },
          "metadata": {},
          "execution_count": 8
        }
      ]
    },
    {
      "cell_type": "code",
      "metadata": {
        "id": "iKKtnxvnvyvf"
      },
      "source": [
        "\n",
        "model = keras.Sequential([\n",
        "    keras.layers.Flatten(input_shape=(IMG_SIZE, IMG_SIZE)), # Input\n",
        "    keras.layers.Dense(128, activation='tanh'), # Hidden Layer #1\n",
        "    keras.layers.Dense(81, activation='relu'), # Hidden Layer #2\n",
        "    keras.layers.Dense(len(CATEGORIES), activation='sigmoid') # Output\n",
        "])\n",
        "\n",
        "model.compile(optimizer='adam',\n",
        "              loss='sparse_categorical_crossentropy',\n",
        "              metrics=['accuracy'])"
      ],
      "execution_count": null,
      "outputs": []
    },
    {
      "cell_type": "code",
      "source": [
        "model = keras.Sequential()\n",
        "model.add(keras.layers.Flatten(input_shape=(IMG_SIZE, IMG_SIZE)))\n",
        "model.add(keras.layers.Dense(units=126, activation='relu'))\n",
        "model.add(keras.layers.Dense(units=99, activation='relu'))\n",
        "model.add(keras.layers.Dense(units=81, activation='relu'))\n",
        "model.add(keras.layers.Dense(units=len(CATEGORIES), activation='softmax'))\n",
        "\n",
        "model.compile(\n",
        "    optimizer=\"adam\", \n",
        "    loss=\"sparse_categorical_crossentropy\", \n",
        "    metrics=['accuracy'])"
      ],
      "metadata": {
        "id": "prFAaMVnYpHb"
      },
      "execution_count": 9,
      "outputs": []
    },
    {
      "cell_type": "code",
      "metadata": {
        "colab": {
          "base_uri": "https://localhost:8080/"
        },
        "id": "qCn1B1DQsSoc",
        "outputId": "38d18b73-ba61-4fbd-8145-5bd418d05f67"
      },
      "source": [
        "model.fit(X_TRAIN, y_train, epochs=10)"
      ],
      "execution_count": 12,
      "outputs": [
        {
          "output_type": "stream",
          "name": "stdout",
          "text": [
            "Epoch 1/10\n",
            "141/141 [==============================] - 5s 35ms/step - loss: 0.2000 - accuracy: 0.9364\n",
            "Epoch 2/10\n",
            "141/141 [==============================] - 5s 35ms/step - loss: 0.1891 - accuracy: 0.9376\n",
            "Epoch 3/10\n",
            "141/141 [==============================] - 5s 35ms/step - loss: 0.1622 - accuracy: 0.9442\n",
            "Epoch 4/10\n",
            "141/141 [==============================] - 5s 35ms/step - loss: 0.2130 - accuracy: 0.9333\n",
            "Epoch 5/10\n",
            "141/141 [==============================] - 5s 35ms/step - loss: 0.1833 - accuracy: 0.9409\n",
            "Epoch 6/10\n",
            "141/141 [==============================] - 5s 35ms/step - loss: 0.1415 - accuracy: 0.9538\n",
            "Epoch 7/10\n",
            "141/141 [==============================] - 5s 35ms/step - loss: 0.1652 - accuracy: 0.9533\n",
            "Epoch 8/10\n",
            "141/141 [==============================] - 5s 35ms/step - loss: 0.1702 - accuracy: 0.9509\n",
            "Epoch 9/10\n",
            "141/141 [==============================] - 5s 35ms/step - loss: 0.2145 - accuracy: 0.9398\n",
            "Epoch 10/10\n",
            "141/141 [==============================] - 5s 35ms/step - loss: 0.1349 - accuracy: 0.9567\n"
          ]
        },
        {
          "output_type": "execute_result",
          "data": {
            "text/plain": [
              "<keras.callbacks.History at 0x7ff35bea84d0>"
            ]
          },
          "metadata": {},
          "execution_count": 12
        }
      ]
    },
    {
      "cell_type": "code",
      "metadata": {
        "colab": {
          "base_uri": "https://localhost:8080/",
          "height": 286
        },
        "id": "CqXUIVGt3iln",
        "outputId": "445456d2-a31f-4d64-da8d-8a3ef9263c93"
      },
      "source": [
        "showFigure(X_TRAIN, 1, y_train)"
      ],
      "execution_count": 60,
      "outputs": [
        {
          "output_type": "stream",
          "name": "stdout",
          "text": [
            "Actual Shape: Category 2 Hexagon\n"
          ]
        },
        {
          "output_type": "display_data",
          "data": {
            "image/png": "[encoded data removed]",
            "text/plain": [
              "<Figure size 432x288 with 1 Axes>"
            ]
          },
          "metadata": {
            "needs_background": "light"
          }
        }
      ]
    },
    {
      "cell_type": "code",
      "metadata": {
        "colab": {
          "base_uri": "https://localhost:8080/",
          "height": 338
        },
        "id": "Lg6OVYvceO-6",
        "outputId": "afba99ee-fc8a-4152-9c5d-3128c554e43a"
      },
      "source": [
        "dataset, d_label = X_TRAIN, y_train\n",
        "model.evaluate(dataset, d_label)\n",
        "y_predicted = model.predict(dataset)\n",
        "predict_value = np.argmax(y_predicted, axis=1)\n",
        "\n",
        "index = 942\n",
        "print(\"Length of prediction\", len(predict_value))\n",
        "print(\"Predict Shape: Category\", predict_value[index], CATEGORIES[predict_value[index]])\n",
        "showFigure(dataset, index, d_label)\n",
        "\n",
        "\n",
        "\n"
      ],
      "execution_count": 33,
      "outputs": [
        {
          "output_type": "stream",
          "name": "stdout",
          "text": [
            "141/141 [==============================] - 2s 15ms/step - loss: 0.0791 - accuracy: 0.9793\n",
            "Length of prediction 4500\n",
            "Predict Shape: Category 5 Pentagon\n",
            "Actual Shape: Category 5 Pentagon\n"
          ]
        },
        {
          "output_type": "display_data",
          "data": {
            "image/png": "[encoded data removed]",
            "text/plain": [
              "<Figure size 432x288 with 1 Axes>"
            ]
          },
          "metadata": {
            "needs_background": "light"
          }
        }
      ]
    },
    {
      "cell_type": "markdown",
      "metadata": {
        "id": "4d-ErtO2TEJ4"
      },
      "source": [
        "# Reference\n",
        "\n",
        "* [Dataset including Numpyarray and Image](https://drive.google.com/drive/folders/1JKx-hjsAlTFaE0Ccx98SpchzExCk40oj?usp=sharing)\n",
        "* [Neural Network with Handwritten](https://github.com/codebasics/deep-learning-keras-tf-tutorial/blob/master/1_digits_recognition/digits_recognition_neural_network.ipynb)\n",
        "*   [Generating Image](https://github.com/elkorchi/2DGeometricShapesGenerator)\n",
        "*   [Creating Dataset - Custom](https://www.youtube.com/watch?v=j-3vuBynnOE)\n",
        "* [Save Numpy Array](https://colab.research.google.com/github/geekmj/python-tutorials/blob/master/numpy-basics/save-array-to-file.ipynb#scrollTo=rw-4iKeOgkMm)\n",
        "\n",
        "\n",
        "\n"
      ]
    }
  ]
}